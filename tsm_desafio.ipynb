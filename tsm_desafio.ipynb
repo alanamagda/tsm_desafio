{
  "nbformat": 4,
  "nbformat_minor": 0,
  "metadata": {
    "colab": {
      "provenance": []
    },
    "kernelspec": {
      "name": "python3",
      "display_name": "Python 3"
    },
    "language_info": {
      "name": "python"
    }
  },
  "cells": [
    {
      "cell_type": "code",
      "execution_count": 1,
      "metadata": {
        "colab": {
          "base_uri": "https://localhost:8080/"
        },
        "id": "WF3uAUZjezuh",
        "outputId": "b13c5838-9bb4-46a2-d591-58301195ace7"
      },
      "outputs": [
        {
          "output_type": "stream",
          "name": "stdout",
          "text": [
            "        Data  Hora    SST  Q  S\n",
            "0   20230801  1200  24.77  2  1\n",
            "1   20230802  1200  24.72  2  1\n",
            "2   20230803  1200  24.82  2  1\n",
            "3   20230804  1200  25.01  2  1\n",
            "4   20230805  1200  24.97  2  1\n",
            "5   20230806  1200  24.73  2  1\n",
            "6   20230807  1200  24.71  2  1\n",
            "7   20230808  1200  24.93  2  1\n",
            "8   20230809  1200  25.06  2  1\n",
            "9   20230810  1200  25.33  2  1\n",
            "10  20230811  1200  25.52  2  1\n",
            "11  20230812  1200  25.43  2  1\n",
            "12  20230813  1200  25.38  2  1\n",
            "13  20230814  1200  25.44  2  1\n",
            "14  20230815  1200  25.41  2  1\n",
            "15  20230816  1200  25.35  2  1\n",
            "16  20230817  1200  25.39  2  1\n",
            "17  20230818  1200  25.27  2  1\n",
            "18  20230819  1200  25.24  2  1\n",
            "19  20230820  1200  25.29  2  1\n",
            "20  20230821  1200  25.26  2  1\n",
            "21  20230822  1200  25.33  2  1\n",
            "22  20230823  1200  25.38  2  1\n",
            "23  20230824  1200  25.34  2  1\n"
          ]
        }
      ],
      "source": [
        "import pandas as pd\n",
        "\n",
        "dados = pd.read_csv('/content/tsm_19S34W.csv', delimiter=',', skiprows=[0], header=None, names=['Data', 'Hora', 'SST', 'Q', 'S'])\n",
        "\n",
        "# Exibir as primeiras linhas dos dados\n",
        "print(dados)\n"
      ]
    },
    {
      "cell_type": "code",
      "source": [
        "def verificar_dados_ausentes(dados):\n",
        "    for coluna in dados.columns:\n",
        "        ausentes = dados[coluna].isnull().sum()\n",
        "        print(f\"A coluna '{coluna}' tem {ausentes} dados ausentes.\")\n",
        "\n",
        "verificar_dados_ausentes(dados)\n"
      ],
      "metadata": {
        "colab": {
          "base_uri": "https://localhost:8080/"
        },
        "id": "ynLh1vwufDKe",
        "outputId": "73576e69-fbc9-416a-b9d3-77f9db53005c"
      },
      "execution_count": 2,
      "outputs": [
        {
          "output_type": "stream",
          "name": "stdout",
          "text": [
            "A coluna 'Data' tem 0 dados ausentes.\n",
            "A coluna 'Hora' tem 0 dados ausentes.\n",
            "A coluna 'SST' tem 0 dados ausentes.\n",
            "A coluna 'Q' tem 0 dados ausentes.\n",
            "A coluna 'S' tem 0 dados ausentes.\n"
          ]
        }
      ]
    },
    {
      "cell_type": "code",
      "source": [],
      "metadata": {
        "id": "sMyqpiZphPJb"
      },
      "execution_count": 2,
      "outputs": []
    },
    {
      "cell_type": "markdown",
      "source": [
        "# Análise de Qualidade:\n",
        "Eu desejo levar em consideração os códigos de qualidade que podem ser úteis para avaliar a confiabilidade dos dados. De acordo com o manual da base de dados:\n",
        "\n",
        "2 = Qualidade padrão. Valor padrão para sensores atualmente implantados e\n",
        "  para sensores."
      ],
      "metadata": {
        "id": "ymmFF_vLhPdH"
      }
    },
    {
      "cell_type": "code",
      "source": [
        "def verificar_qualidade_dos_dados(dados):\n",
        "    resultado = \"Em nenhum dado foi apresentado valor inferior a 2 na coluna 'Q'.\"\n",
        "\n",
        "    # Verificar se algum valor na coluna Q é menor que 2\n",
        "    if (dados['Q'] < 2).any():\n",
        "        resultado = \"Algum dado apresentou valor inferior a 2 na coluna 'Q'.\"\n",
        "\n",
        "    return resultado\n",
        "\n",
        "resultado_qualidade = verificar_qualidade_dos_dados(dados)\n",
        "\n",
        "print(resultado_qualidade)\n"
      ],
      "metadata": {
        "colab": {
          "base_uri": "https://localhost:8080/"
        },
        "id": "SZnQlUOLiX7z",
        "outputId": "442d4171-27fb-46d1-bac1-99209ae40638"
      },
      "execution_count": 3,
      "outputs": [
        {
          "output_type": "stream",
          "name": "stdout",
          "text": [
            "Em nenhum dado foi apresentado valor inferior a 2 na coluna 'Q'.\n"
          ]
        }
      ]
    },
    {
      "cell_type": "markdown",
      "source": [
        "# Agregação de Dados:\n",
        "Eu desejo realizar agregações temporais para poder  calcular médias diárias ou mensais da temperaura da superfíce do mar. Logo, estou convertendo a coluna 'Data' para formato de data e posteriormente realizar a analise da média mensal da temperaura da superfíce do mar.\n"
      ],
      "metadata": {
        "id": "d5VLUFmHgNpX"
      }
    },
    {
      "cell_type": "code",
      "source": [
        "import pandas as pd\n",
        "\n",
        "def calcular_media_sst_e_adicionar_coluna(dados):\n",
        "    # Calcular a média da coluna 'SST'\n",
        "    media_sst = dados['SST'].mean()\n",
        "\n",
        "    # Adicionar uma nova coluna\n",
        "    dados['Media SST'] = media_sst\n",
        "\n",
        "    return dados\n",
        "\n",
        "\n",
        "dados = calcular_media_sst_e_adicionar_coluna(dados)\n",
        "\n",
        "print(dados)\n"
      ],
      "metadata": {
        "colab": {
          "base_uri": "https://localhost:8080/"
        },
        "id": "qQdmkLPVjPfM",
        "outputId": "c133f396-07d0-4e71-f9b5-73aa3445b32b"
      },
      "execution_count": 4,
      "outputs": [
        {
          "output_type": "stream",
          "name": "stdout",
          "text": [
            "        Data  Hora    SST  Q  S  Media SST\n",
            "0   20230801  1200  24.77  2  1      25.17\n",
            "1   20230802  1200  24.72  2  1      25.17\n",
            "2   20230803  1200  24.82  2  1      25.17\n",
            "3   20230804  1200  25.01  2  1      25.17\n",
            "4   20230805  1200  24.97  2  1      25.17\n",
            "5   20230806  1200  24.73  2  1      25.17\n",
            "6   20230807  1200  24.71  2  1      25.17\n",
            "7   20230808  1200  24.93  2  1      25.17\n",
            "8   20230809  1200  25.06  2  1      25.17\n",
            "9   20230810  1200  25.33  2  1      25.17\n",
            "10  20230811  1200  25.52  2  1      25.17\n",
            "11  20230812  1200  25.43  2  1      25.17\n",
            "12  20230813  1200  25.38  2  1      25.17\n",
            "13  20230814  1200  25.44  2  1      25.17\n",
            "14  20230815  1200  25.41  2  1      25.17\n",
            "15  20230816  1200  25.35  2  1      25.17\n",
            "16  20230817  1200  25.39  2  1      25.17\n",
            "17  20230818  1200  25.27  2  1      25.17\n",
            "18  20230819  1200  25.24  2  1      25.17\n",
            "19  20230820  1200  25.29  2  1      25.17\n",
            "20  20230821  1200  25.26  2  1      25.17\n",
            "21  20230822  1200  25.33  2  1      25.17\n",
            "22  20230823  1200  25.38  2  1      25.17\n",
            "23  20230824  1200  25.34  2  1      25.17\n"
          ]
        }
      ]
    },
    {
      "cell_type": "code",
      "source": [],
      "metadata": {
        "id": "y_NqSijkgp2_"
      },
      "execution_count": 4,
      "outputs": []
    },
    {
      "cell_type": "markdown",
      "source": [
        "# Salvando o novo arquivo com novas atualizações\n",
        "Atualizações estas que podem ser uteis para analises do comportamento medio mensal da temperatura do oceano para a lat/lon: 19S34W."
      ],
      "metadata": {
        "id": "1QnHfCslkadA"
      }
    },
    {
      "cell_type": "code",
      "source": [
        "dados.to_csv('/content/tsm_19S34W.csv', sep='\\t', index=False, header=None)\n"
      ],
      "metadata": {
        "id": "wS4J4UdTkv8w"
      },
      "execution_count": 5,
      "outputs": []
    },
    {
      "cell_type": "code",
      "source": [
        "print (dados)"
      ],
      "metadata": {
        "colab": {
          "base_uri": "https://localhost:8080/"
        },
        "id": "MKOEtiUale5K",
        "outputId": "c169f4e1-bca6-44c8-811a-77db1acf9f24"
      },
      "execution_count": 6,
      "outputs": [
        {
          "output_type": "stream",
          "name": "stdout",
          "text": [
            "        Data  Hora    SST  Q  S  Media SST\n",
            "0   20230801  1200  24.77  2  1      25.17\n",
            "1   20230802  1200  24.72  2  1      25.17\n",
            "2   20230803  1200  24.82  2  1      25.17\n",
            "3   20230804  1200  25.01  2  1      25.17\n",
            "4   20230805  1200  24.97  2  1      25.17\n",
            "5   20230806  1200  24.73  2  1      25.17\n",
            "6   20230807  1200  24.71  2  1      25.17\n",
            "7   20230808  1200  24.93  2  1      25.17\n",
            "8   20230809  1200  25.06  2  1      25.17\n",
            "9   20230810  1200  25.33  2  1      25.17\n",
            "10  20230811  1200  25.52  2  1      25.17\n",
            "11  20230812  1200  25.43  2  1      25.17\n",
            "12  20230813  1200  25.38  2  1      25.17\n",
            "13  20230814  1200  25.44  2  1      25.17\n",
            "14  20230815  1200  25.41  2  1      25.17\n",
            "15  20230816  1200  25.35  2  1      25.17\n",
            "16  20230817  1200  25.39  2  1      25.17\n",
            "17  20230818  1200  25.27  2  1      25.17\n",
            "18  20230819  1200  25.24  2  1      25.17\n",
            "19  20230820  1200  25.29  2  1      25.17\n",
            "20  20230821  1200  25.26  2  1      25.17\n",
            "21  20230822  1200  25.33  2  1      25.17\n",
            "22  20230823  1200  25.38  2  1      25.17\n",
            "23  20230824  1200  25.34  2  1      25.17\n"
          ]
        }
      ]
    },
    {
      "cell_type": "code",
      "source": [],
      "metadata": {
        "id": "5s7tUpSklgVh"
      },
      "execution_count": null,
      "outputs": []
    }
  ]
}